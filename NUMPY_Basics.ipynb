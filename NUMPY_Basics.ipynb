{
  "nbformat": 4,
  "nbformat_minor": 0,
  "metadata": {
    "colab": {
      "name": "NUMPY_Basics.ipynb",
      "version": "0.3.2",
      "provenance": []
    },
    "kernelspec": {
      "name": "python3",
      "display_name": "Python 3"
    }
  },
  "cells": [
    {
      "cell_type": "markdown",
      "metadata": {
        "id": "0_iK9wMxj9ky",
        "colab_type": "text"
      },
      "source": [
        "NumPy is the fundamental package for scientific computing in Python. It is a Python library that provides a multidimensional array object, various derived objects (such as masked arrays and matrices), and an assortment of routines for fast operations on arrays, including mathematical, logical, shape manipulation, sorting, selecting, I/O, discrete Fourier transforms, basic linear algebra, basic statistical operations, random simulation.\n",
        "\n",
        "At the core of the NumPy package, is the ndarray object\n",
        "\n",
        "1.   NumPy arrays have a fixed size at creation, unlike Python lists (which can grow dynamically). Changing the size of an ndarray will create a new array and delete the original.\n",
        "2.   The elements in a NumPy array are all required to be of the same data type, and thus will be the same size in memory. The exception: one can have arrays of (Python, including NumPy) objects, thereby allowing for arrays of different sized elements.\n",
        "3.    NumPy arrays facilitate advanced mathematical and other types of operations on large numbers of data. Typically, such operations are executed more efficiently and with less code than is possible using Python’s built-in sequences.\n",
        "4.    A growing plethora of scientific and mathematical Python-based packages are using NumPy arrays; though these typically support Python-   sequence input, they convert such input to NumPy arrays prior to processing, and they often output NumPy arrays. In other words, in order to efficiently use much (perhaps even most) of today’s scientific/mathematical Python-based software, just knowing how to use Python’s built-in sequence types is insufficient - one also needs to know how to use NumPy arrays.\n",
        "\n"
      ]
    },
    {
      "cell_type": "code",
      "metadata": {
        "id": "H7Wj0C3TZNoL",
        "colab_type": "code",
        "colab": {
          "base_uri": "https://localhost:8080/",
          "height": 34
        },
        "outputId": "e4b054df-896e-41cb-b22a-f1123df9f49d"
      },
      "source": [
        "import numpy as np\n",
        "array1=np.array([1,2,3,5])\n",
        "array1"
      ],
      "execution_count": 1,
      "outputs": [
        {
          "output_type": "execute_result",
          "data": {
            "text/plain": [
              "array([1, 2, 3, 5])"
            ]
          },
          "metadata": {
            "tags": []
          },
          "execution_count": 1
        }
      ]
    },
    {
      "cell_type": "code",
      "metadata": {
        "id": "oQTDoUkgZeNJ",
        "colab_type": "code",
        "colab": {
          "base_uri": "https://localhost:8080/",
          "height": 34
        },
        "outputId": "d4fcf46e-61b2-4095-c5a5-ae867a2a35e1"
      },
      "source": [
        "array1.dtype"
      ],
      "execution_count": 2,
      "outputs": [
        {
          "output_type": "execute_result",
          "data": {
            "text/plain": [
              "dtype('int64')"
            ]
          },
          "metadata": {
            "tags": []
          },
          "execution_count": 2
        }
      ]
    },
    {
      "cell_type": "markdown",
      "metadata": {
        "id": "ZTI53nXhZoWA",
        "colab_type": "text"
      },
      "source": [
        "Data types\n",
        "bool_\n",
        "int_\n",
        "uint8\n",
        "float16\n",
        "complex\n",
        "object"
      ]
    },
    {
      "cell_type": "markdown",
      "metadata": {
        "id": "TK-X9zlzZv8R",
        "colab_type": "text"
      },
      "source": [
        "List to NPArray"
      ]
    },
    {
      "cell_type": "code",
      "metadata": {
        "id": "pGF6LRQAaIp4",
        "colab_type": "code",
        "colab": {
          "base_uri": "https://localhost:8080/",
          "height": 34
        },
        "outputId": "66169307-6b73-4119-a42d-bb8cee85668f"
      },
      "source": [
        "list_of_item =[1,2,3,4]\n",
        "array2=np.array(list_of_item)\n",
        "array2"
      ],
      "execution_count": 5,
      "outputs": [
        {
          "output_type": "execute_result",
          "data": {
            "text/plain": [
              "array([1, 2, 3, 4])"
            ]
          },
          "metadata": {
            "tags": []
          },
          "execution_count": 5
        }
      ]
    },
    {
      "cell_type": "markdown",
      "metadata": {
        "id": "tqVf6cLmaW_A",
        "colab_type": "text"
      },
      "source": [
        "Numpy is ND Array\n"
      ]
    },
    {
      "cell_type": "markdown",
      "metadata": {
        "id": "TzsCRedha6bA",
        "colab_type": "text"
      },
      "source": [
        ""
      ]
    },
    {
      "cell_type": "code",
      "metadata": {
        "id": "L8q9_LA0a9uB",
        "colab_type": "code",
        "colab": {
          "base_uri": "https://localhost:8080/",
          "height": 68
        },
        "outputId": "1d9e39d3-54b0-4be3-e96b-27b88b647436"
      },
      "source": [
        "array3=np.array([[1,2,3],[4,5,6],[7,8,9]])\n",
        "array3"
      ],
      "execution_count": 6,
      "outputs": [
        {
          "output_type": "execute_result",
          "data": {
            "text/plain": [
              "array([[1, 2, 3],\n",
              "       [4, 5, 6],\n",
              "       [7, 8, 9]])"
            ]
          },
          "metadata": {
            "tags": []
          },
          "execution_count": 6
        }
      ]
    },
    {
      "cell_type": "markdown",
      "metadata": {
        "id": "ynzA21xQbEII",
        "colab_type": "text"
      },
      "source": [
        "Rank of an numpy array\n",
        "use ndim"
      ]
    },
    {
      "cell_type": "code",
      "metadata": {
        "id": "MO6X3C2pbH4x",
        "colab_type": "code",
        "colab": {
          "base_uri": "https://localhost:8080/",
          "height": 34
        },
        "outputId": "7042e36c-35ee-4b53-d85d-4ec6b1d862a4"
      },
      "source": [
        "array3.ndim"
      ],
      "execution_count": 7,
      "outputs": [
        {
          "output_type": "execute_result",
          "data": {
            "text/plain": [
              "2"
            ]
          },
          "metadata": {
            "tags": []
          },
          "execution_count": 7
        }
      ]
    },
    {
      "cell_type": "markdown",
      "metadata": {
        "id": "QVma_llebLBp",
        "colab_type": "text"
      },
      "source": [
        "To Find shape of n dimensional array i.e. rows and columns"
      ]
    },
    {
      "cell_type": "code",
      "metadata": {
        "id": "isTByAIybSe4",
        "colab_type": "code",
        "colab": {
          "base_uri": "https://localhost:8080/",
          "height": 34
        },
        "outputId": "1b977d89-1058-4d7e-986e-41d8c0005540"
      },
      "source": [
        "array3.shape"
      ],
      "execution_count": 8,
      "outputs": [
        {
          "output_type": "execute_result",
          "data": {
            "text/plain": [
              "(3, 3)"
            ]
          },
          "metadata": {
            "tags": []
          },
          "execution_count": 8
        }
      ]
    },
    {
      "cell_type": "markdown",
      "metadata": {
        "id": "32J0K3sebUzq",
        "colab_type": "text"
      },
      "source": [
        "To find the number of elements in array use size attribute"
      ]
    },
    {
      "cell_type": "code",
      "metadata": {
        "id": "4tW_2BdBbhlg",
        "colab_type": "code",
        "colab": {
          "base_uri": "https://localhost:8080/",
          "height": 34
        },
        "outputId": "59894215-17b0-4094-adf1-f42d600ce4f6"
      },
      "source": [
        "array3.size"
      ],
      "execution_count": 9,
      "outputs": [
        {
          "output_type": "execute_result",
          "data": {
            "text/plain": [
              "9"
            ]
          },
          "metadata": {
            "tags": []
          },
          "execution_count": 9
        }
      ]
    },
    {
      "cell_type": "markdown",
      "metadata": {
        "id": "REuy0r5fbkEo",
        "colab_type": "text"
      },
      "source": [
        "To Identify the datatype of array use dtype"
      ]
    },
    {
      "cell_type": "code",
      "metadata": {
        "id": "FI58xW-ebod4",
        "colab_type": "code",
        "colab": {
          "base_uri": "https://localhost:8080/",
          "height": 34
        },
        "outputId": "ee868703-c0e8-4cf7-93dc-7f25d1cc7363"
      },
      "source": [
        "array3.dtype"
      ],
      "execution_count": 10,
      "outputs": [
        {
          "output_type": "execute_result",
          "data": {
            "text/plain": [
              "dtype('int64')"
            ]
          },
          "metadata": {
            "tags": []
          },
          "execution_count": 10
        }
      ]
    },
    {
      "cell_type": "markdown",
      "metadata": {
        "id": "2BJvdqIHbqRQ",
        "colab_type": "text"
      },
      "source": [
        "To identify the memory size of each item use itemsize attribute"
      ]
    },
    {
      "cell_type": "code",
      "metadata": {
        "id": "JDFGMR09buL6",
        "colab_type": "code",
        "colab": {
          "base_uri": "https://localhost:8080/",
          "height": 34
        },
        "outputId": "7af4cc27-0867-4bd9-c952-65ec86a42c83"
      },
      "source": [
        "array3.itemsize"
      ],
      "execution_count": 11,
      "outputs": [
        {
          "output_type": "execute_result",
          "data": {
            "text/plain": [
              "8"
            ]
          },
          "metadata": {
            "tags": []
          },
          "execution_count": 11
        }
      ]
    },
    {
      "cell_type": "markdown",
      "metadata": {
        "id": "DkYO0n4sb3Lp",
        "colab_type": "text"
      },
      "source": [
        "To find the location of array"
      ]
    },
    {
      "cell_type": "markdown",
      "metadata": {
        "id": "3YlMOji7cBzY",
        "colab_type": "text"
      },
      "source": [
        ""
      ]
    },
    {
      "cell_type": "code",
      "metadata": {
        "id": "E87pV_y1b71p",
        "colab_type": "code",
        "colab": {
          "base_uri": "https://localhost:8080/",
          "height": 34
        },
        "outputId": "0500c03d-c546-497a-ff81-318463eb1be1"
      },
      "source": [
        "array3.data"
      ],
      "execution_count": 12,
      "outputs": [
        {
          "output_type": "execute_result",
          "data": {
            "text/plain": [
              "<memory at 0x7f975155b048>"
            ]
          },
          "metadata": {
            "tags": []
          },
          "execution_count": 12
        }
      ]
    },
    {
      "cell_type": "markdown",
      "metadata": {
        "id": "N7ccQ3gGcC2Z",
        "colab_type": "text"
      },
      "source": [
        "**Accessing the elements in numpy array**"
      ]
    },
    {
      "cell_type": "markdown",
      "metadata": {
        "id": "UArl_pn1cKc5",
        "colab_type": "text"
      },
      "source": [
        ""
      ]
    },
    {
      "cell_type": "code",
      "metadata": {
        "id": "HLtAxkvdcSTx",
        "colab_type": "code",
        "colab": {
          "base_uri": "https://localhost:8080/",
          "height": 34
        },
        "outputId": "956b3f6e-3c28-4e8b-8503-c3eac3782a39"
      },
      "source": [
        "array5 = np.array([4,5,6,7])\n",
        "array5"
      ],
      "execution_count": 13,
      "outputs": [
        {
          "output_type": "execute_result",
          "data": {
            "text/plain": [
              "array([4, 5, 6, 7])"
            ]
          },
          "metadata": {
            "tags": []
          },
          "execution_count": 13
        }
      ]
    },
    {
      "cell_type": "markdown",
      "metadata": {
        "id": "A0G-1mJBclMo",
        "colab_type": "text"
      },
      "source": [
        "To access the elements use idices starting from 0\n"
      ]
    },
    {
      "cell_type": "code",
      "metadata": {
        "id": "em6GXAKDcpbq",
        "colab_type": "code",
        "colab": {
          "base_uri": "https://localhost:8080/",
          "height": 34
        },
        "outputId": "657e0970-f747-4a65-d024-069fb66ae6fb"
      },
      "source": [
        "array5[0]"
      ],
      "execution_count": 14,
      "outputs": [
        {
          "output_type": "execute_result",
          "data": {
            "text/plain": [
              "4"
            ]
          },
          "metadata": {
            "tags": []
          },
          "execution_count": 14
        }
      ]
    },
    {
      "cell_type": "code",
      "metadata": {
        "id": "9SbtnmqAcsN5",
        "colab_type": "code",
        "colab": {
          "base_uri": "https://localhost:8080/",
          "height": 34
        },
        "outputId": "a0441d31-33aa-45c5-f0fd-7630f4590694"
      },
      "source": [
        "array5[3]"
      ],
      "execution_count": 15,
      "outputs": [
        {
          "output_type": "execute_result",
          "data": {
            "text/plain": [
              "7"
            ]
          },
          "metadata": {
            "tags": []
          },
          "execution_count": 15
        }
      ]
    },
    {
      "cell_type": "markdown",
      "metadata": {
        "id": "Sf5GDapOcvOK",
        "colab_type": "text"
      },
      "source": [
        "You can also start from end...in that case you have to use negative indices starting from -1 that is the last element\n",
        "\n"
      ]
    },
    {
      "cell_type": "code",
      "metadata": {
        "id": "65AsGyzDc3i5",
        "colab_type": "code",
        "colab": {
          "base_uri": "https://localhost:8080/",
          "height": 34
        },
        "outputId": "095b1329-bd36-41a6-dcc4-98d5f621b859"
      },
      "source": [
        "array5[-1]"
      ],
      "execution_count": 16,
      "outputs": [
        {
          "output_type": "execute_result",
          "data": {
            "text/plain": [
              "7"
            ]
          },
          "metadata": {
            "tags": []
          },
          "execution_count": 16
        }
      ]
    },
    {
      "cell_type": "markdown",
      "metadata": {
        "id": "flD9SBQxc7Pw",
        "colab_type": "text"
      },
      "source": [
        ""
      ]
    },
    {
      "cell_type": "code",
      "metadata": {
        "id": "hVDPmNtrdM5p",
        "colab_type": "code",
        "colab": {}
      },
      "source": [
        "a1=np.array([[1,2,3,4],[4,5,6,7],[8,9,10,11]])"
      ],
      "execution_count": 0,
      "outputs": []
    },
    {
      "cell_type": "code",
      "metadata": {
        "id": "ZRO1yBN_dNlw",
        "colab_type": "code",
        "colab": {
          "base_uri": "https://localhost:8080/",
          "height": 68
        },
        "outputId": "acfcb146-c2a7-493e-ada1-8ea4ba0924e0"
      },
      "source": [
        "a1"
      ],
      "execution_count": 21,
      "outputs": [
        {
          "output_type": "execute_result",
          "data": {
            "text/plain": [
              "array([[ 1,  2,  3,  4],\n",
              "       [ 4,  5,  6,  7],\n",
              "       [ 8,  9, 10, 11]])"
            ]
          },
          "metadata": {
            "tags": []
          },
          "execution_count": 21
        }
      ]
    },
    {
      "cell_type": "markdown",
      "metadata": {
        "id": "hzkeHUC6dW3s",
        "colab_type": "text"
      },
      "source": [
        "Use row, column indices to access 2 d array"
      ]
    },
    {
      "cell_type": "code",
      "metadata": {
        "id": "8fPg9dWOdboI",
        "colab_type": "code",
        "colab": {
          "base_uri": "https://localhost:8080/",
          "height": 34
        },
        "outputId": "50eba13f-445d-4528-e51f-3dcb131e38e3"
      },
      "source": [
        "a1[0][1]"
      ],
      "execution_count": 22,
      "outputs": [
        {
          "output_type": "execute_result",
          "data": {
            "text/plain": [
              "2"
            ]
          },
          "metadata": {
            "tags": []
          },
          "execution_count": 22
        }
      ]
    },
    {
      "cell_type": "markdown",
      "metadata": {
        "id": "pccNpjULdfny",
        "colab_type": "text"
      },
      "source": [
        "use negative indices for starting from end\n"
      ]
    },
    {
      "cell_type": "code",
      "metadata": {
        "id": "lY3DGFHAdjBB",
        "colab_type": "code",
        "colab": {
          "base_uri": "https://localhost:8080/",
          "height": 34
        },
        "outputId": "fa18da2d-4d79-40b2-d193-4a13dfe34231"
      },
      "source": [
        "a1[-3][-3]"
      ],
      "execution_count": 24,
      "outputs": [
        {
          "output_type": "execute_result",
          "data": {
            "text/plain": [
              "2"
            ]
          },
          "metadata": {
            "tags": []
          },
          "execution_count": 24
        }
      ]
    },
    {
      "cell_type": "markdown",
      "metadata": {
        "id": "KKoPvp1FdyhA",
        "colab_type": "text"
      },
      "source": [
        "Use can also get subarrays from arrays\n",
        "\n",
        "use [index:no of elements]"
      ]
    },
    {
      "cell_type": "code",
      "metadata": {
        "id": "2rzb8NSRd1gY",
        "colab_type": "code",
        "colab": {
          "base_uri": "https://localhost:8080/",
          "height": 51
        },
        "outputId": "2bb28378-1b3c-4002-9bbc-9b8c2c97c734"
      },
      "source": [
        "\n",
        "\n",
        "print(array5)\n",
        "\n",
        "print(array5[0:2])"
      ],
      "execution_count": 37,
      "outputs": [
        {
          "output_type": "stream",
          "text": [
            "[4 5 6 7]\n",
            "[4 5]\n"
          ],
          "name": "stdout"
        }
      ]
    },
    {
      "cell_type": "markdown",
      "metadata": {
        "id": "LuwwTyi4eq4B",
        "colab_type": "text"
      },
      "source": [
        ""
      ]
    },
    {
      "cell_type": "code",
      "metadata": {
        "id": "m541pdw5ev1v",
        "colab_type": "code",
        "colab": {
          "base_uri": "https://localhost:8080/",
          "height": 68
        },
        "outputId": "bf0e103f-f3e5-448b-d4fe-7b64c718b21d"
      },
      "source": [
        "a1"
      ],
      "execution_count": 39,
      "outputs": [
        {
          "output_type": "execute_result",
          "data": {
            "text/plain": [
              "array([[ 1,  2,  3,  4],\n",
              "       [ 4,  5,  6,  7],\n",
              "       [ 8,  9, 10, 11]])"
            ]
          },
          "metadata": {
            "tags": []
          },
          "execution_count": 39
        }
      ]
    },
    {
      "cell_type": "code",
      "metadata": {
        "id": "7ko3rN7ve2_b",
        "colab_type": "code",
        "colab": {}
      },
      "source": [
        "x=a1[0:2,0:2]"
      ],
      "execution_count": 0,
      "outputs": []
    },
    {
      "cell_type": "code",
      "metadata": {
        "id": "QhIHczL1fDCy",
        "colab_type": "code",
        "colab": {
          "base_uri": "https://localhost:8080/",
          "height": 51
        },
        "outputId": "9b768be5-6494-435d-e558-23458d800359"
      },
      "source": [
        "x"
      ],
      "execution_count": 43,
      "outputs": [
        {
          "output_type": "execute_result",
          "data": {
            "text/plain": [
              "array([[1, 2],\n",
              "       [4, 5]])"
            ]
          },
          "metadata": {
            "tags": []
          },
          "execution_count": 43
        }
      ]
    },
    {
      "cell_type": "markdown",
      "metadata": {
        "id": "u46o84YvfIHa",
        "colab_type": "text"
      },
      "source": [
        "you can use base attribute to get parent array"
      ]
    },
    {
      "cell_type": "code",
      "metadata": {
        "id": "Z1eJ-OlhfLeq",
        "colab_type": "code",
        "colab": {
          "base_uri": "https://localhost:8080/",
          "height": 68
        },
        "outputId": "65edb354-ccd5-45d7-89ef-8ba9481c042e"
      },
      "source": [
        "x.base"
      ],
      "execution_count": 44,
      "outputs": [
        {
          "output_type": "execute_result",
          "data": {
            "text/plain": [
              "array([[ 1,  2,  3,  4],\n",
              "       [ 4,  5,  6,  7],\n",
              "       [ 8,  9, 10, 11]])"
            ]
          },
          "metadata": {
            "tags": []
          },
          "execution_count": 44
        }
      ]
    },
    {
      "cell_type": "markdown",
      "metadata": {
        "id": "kVloH8eUfNmq",
        "colab_type": "text"
      },
      "source": [
        "You can use slicing also.\n",
        "\n",
        "This will give you all rows and columns starting from 0 upto 2 elements"
      ]
    },
    {
      "cell_type": "code",
      "metadata": {
        "id": "85Cu3mp8gOWR",
        "colab_type": "code",
        "colab": {}
      },
      "source": [
        ""
      ],
      "execution_count": 0,
      "outputs": []
    },
    {
      "cell_type": "code",
      "metadata": {
        "id": "-1IpmvIvfS-r",
        "colab_type": "code",
        "colab": {
          "base_uri": "https://localhost:8080/",
          "height": 68
        },
        "outputId": "2df06dd8-3605-4534-bb9a-2205e9baf235"
      },
      "source": [
        "a1[:,0:2]"
      ],
      "execution_count": 45,
      "outputs": [
        {
          "output_type": "execute_result",
          "data": {
            "text/plain": [
              "array([[1, 2],\n",
              "       [4, 5],\n",
              "       [8, 9]])"
            ]
          },
          "metadata": {
            "tags": []
          },
          "execution_count": 45
        }
      ]
    },
    {
      "cell_type": "code",
      "metadata": {
        "id": "nN8TxwWTgPSp",
        "colab_type": "code",
        "colab": {
          "base_uri": "https://localhost:8080/",
          "height": 51
        },
        "outputId": "fc9c627e-8297-4498-8f75-a10e119596e3"
      },
      "source": [
        "a1[1:]"
      ],
      "execution_count": 46,
      "outputs": [
        {
          "output_type": "execute_result",
          "data": {
            "text/plain": [
              "array([[ 4,  5,  6,  7],\n",
              "       [ 8,  9, 10, 11]])"
            ]
          },
          "metadata": {
            "tags": []
          },
          "execution_count": 46
        }
      ]
    },
    {
      "cell_type": "markdown",
      "metadata": {
        "id": "KO9vBDKMgbzT",
        "colab_type": "text"
      },
      "source": [
        "to assign values to all elements from particular row"
      ]
    },
    {
      "cell_type": "code",
      "metadata": {
        "id": "G6b6WFSBgUfx",
        "colab_type": "code",
        "colab": {
          "base_uri": "https://localhost:8080/",
          "height": 68
        },
        "outputId": "05f360b2-bd7a-4adc-c5bf-f133383bc1be"
      },
      "source": [
        "\n",
        "a1[1:]=20\n",
        "a1"
      ],
      "execution_count": 48,
      "outputs": [
        {
          "output_type": "execute_result",
          "data": {
            "text/plain": [
              "array([[ 1,  2,  3,  4],\n",
              "       [20, 20, 20, 20],\n",
              "       [20, 20, 20, 20]])"
            ]
          },
          "metadata": {
            "tags": []
          },
          "execution_count": 48
        }
      ]
    },
    {
      "cell_type": "code",
      "metadata": {
        "id": "jA8afwRgghGJ",
        "colab_type": "code",
        "colab": {
          "base_uri": "https://localhost:8080/",
          "height": 68
        },
        "outputId": "b9fe74fe-b8da-4373-d987-9fc0c5b19900"
      },
      "source": [
        "a1[1:]=[[1,1,1,1],[2,2,3,4]]\n",
        "a1"
      ],
      "execution_count": 49,
      "outputs": [
        {
          "output_type": "execute_result",
          "data": {
            "text/plain": [
              "array([[1, 2, 3, 4],\n",
              "       [1, 1, 1, 1],\n",
              "       [2, 2, 3, 4]])"
            ]
          },
          "metadata": {
            "tags": []
          },
          "execution_count": 49
        }
      ]
    },
    {
      "cell_type": "markdown",
      "metadata": {
        "id": "dHsDJnxCg6na",
        "colab_type": "text"
      },
      "source": [
        "Short codes to create array of 0s"
      ]
    },
    {
      "cell_type": "markdown",
      "metadata": {
        "id": "WKCoHDd2hN_o",
        "colab_type": "text"
      },
      "source": [
        ""
      ]
    },
    {
      "cell_type": "code",
      "metadata": {
        "id": "6qkzTrzXg9VB",
        "colab_type": "code",
        "colab": {
          "base_uri": "https://localhost:8080/",
          "height": 68
        },
        "outputId": "458167b8-8e26-48c1-a856-9c3bca88bafe"
      },
      "source": [
        "c=np.zeros([3,2])\n",
        "c"
      ],
      "execution_count": 52,
      "outputs": [
        {
          "output_type": "execute_result",
          "data": {
            "text/plain": [
              "array([[0., 0.],\n",
              "       [0., 0.],\n",
              "       [0., 0.]])"
            ]
          },
          "metadata": {
            "tags": []
          },
          "execution_count": 52
        }
      ]
    },
    {
      "cell_type": "markdown",
      "metadata": {
        "id": "fxHYRMy5hLuq",
        "colab_type": "text"
      },
      "source": [
        "Default value will be float\n"
      ]
    },
    {
      "cell_type": "code",
      "metadata": {
        "id": "zSS626v1hQaC",
        "colab_type": "code",
        "colab": {
          "base_uri": "https://localhost:8080/",
          "height": 34
        },
        "outputId": "52563a5c-2cb5-4813-b2d5-aa0893a6a43f"
      },
      "source": [
        "c.dtype"
      ],
      "execution_count": 53,
      "outputs": [
        {
          "output_type": "execute_result",
          "data": {
            "text/plain": [
              "dtype('float64')"
            ]
          },
          "metadata": {
            "tags": []
          },
          "execution_count": 53
        }
      ]
    },
    {
      "cell_type": "markdown",
      "metadata": {
        "id": "OSgbkh1chSy6",
        "colab_type": "text"
      },
      "source": [
        ""
      ]
    },
    {
      "cell_type": "code",
      "metadata": {
        "id": "hFrdQ3e0hYEC",
        "colab_type": "code",
        "colab": {
          "base_uri": "https://localhost:8080/",
          "height": 51
        },
        "outputId": "e0a35678-68bf-428f-9dee-4ac362033053"
      },
      "source": [
        "d=np.ones([2,2])\n",
        "d"
      ],
      "execution_count": 54,
      "outputs": [
        {
          "output_type": "execute_result",
          "data": {
            "text/plain": [
              "array([[1., 1.],\n",
              "       [1., 1.]])"
            ]
          },
          "metadata": {
            "tags": []
          },
          "execution_count": 54
        }
      ]
    },
    {
      "cell_type": "markdown",
      "metadata": {
        "id": "JI5T9sXahaU8",
        "colab_type": "text"
      },
      "source": [
        "To use specific datatype, you have to use dtype"
      ]
    },
    {
      "cell_type": "code",
      "metadata": {
        "id": "hN0eGbZehfvr",
        "colab_type": "code",
        "colab": {
          "base_uri": "https://localhost:8080/",
          "height": 68
        },
        "outputId": "306724db-2b11-4de7-bda4-689f7f2d2b4c"
      },
      "source": [
        "e=np.ones([3,2],dtype=int)\n",
        "e"
      ],
      "execution_count": 55,
      "outputs": [
        {
          "output_type": "execute_result",
          "data": {
            "text/plain": [
              "array([[1, 1],\n",
              "       [1, 1],\n",
              "       [1, 1]])"
            ]
          },
          "metadata": {
            "tags": []
          },
          "execution_count": 55
        }
      ]
    },
    {
      "cell_type": "markdown",
      "metadata": {
        "id": "il8NT7qshnDC",
        "colab_type": "text"
      },
      "source": [
        "array with random values but random values will be less than 1"
      ]
    },
    {
      "cell_type": "code",
      "metadata": {
        "id": "jLBUBhOIhruq",
        "colab_type": "code",
        "colab": {
          "base_uri": "https://localhost:8080/",
          "height": 68
        },
        "outputId": "8264cfe7-ecc7-4eb7-ff5f-fcee2de1160e"
      },
      "source": [
        "f=np.empty([3,2])\n",
        "f"
      ],
      "execution_count": 56,
      "outputs": [
        {
          "output_type": "execute_result",
          "data": {
            "text/plain": [
              "array([[1.36661087e-316, 0.00000000e+000],\n",
              "       [0.00000000e+000, 0.00000000e+000],\n",
              "       [0.00000000e+000, 0.00000000e+000]])"
            ]
          },
          "metadata": {
            "tags": []
          },
          "execution_count": 56
        }
      ]
    },
    {
      "cell_type": "markdown",
      "metadata": {
        "id": "uHDVT1Ukh1Fh",
        "colab_type": "text"
      },
      "source": [
        "You can use arange for incemental or decremental values\n",
        "np.arrange(start_no,end_no,step)"
      ]
    },
    {
      "cell_type": "markdown",
      "metadata": {
        "id": "qgBWIRs9iFxW",
        "colab_type": "text"
      },
      "source": [
        ""
      ]
    },
    {
      "cell_type": "code",
      "metadata": {
        "id": "vqtz8_-eh9oU",
        "colab_type": "code",
        "colab": {
          "base_uri": "https://localhost:8080/",
          "height": 34
        },
        "outputId": "b656b487-cb96-4fa0-99dd-a91f2ec62fd3"
      },
      "source": [
        "g=np.arange(0,12,2)\n",
        "g"
      ],
      "execution_count": 58,
      "outputs": [
        {
          "output_type": "execute_result",
          "data": {
            "text/plain": [
              "array([ 0,  2,  4,  6,  8, 10])"
            ]
          },
          "metadata": {
            "tags": []
          },
          "execution_count": 58
        }
      ]
    },
    {
      "cell_type": "markdown",
      "metadata": {
        "id": "nP_MygekiGjb",
        "colab_type": "text"
      },
      "source": [
        "You can use linespace function as well for evenly distribution of squence\n"
      ]
    },
    {
      "cell_type": "code",
      "metadata": {
        "id": "_H5f7hHKiijZ",
        "colab_type": "code",
        "colab": {
          "base_uri": "https://localhost:8080/",
          "height": 34
        },
        "outputId": "a8663dde-3467-48e5-c702-1c269d981920"
      },
      "source": [
        "h=np.linspace(start=0,stop=10,num=4)\n",
        "h"
      ],
      "execution_count": 64,
      "outputs": [
        {
          "output_type": "execute_result",
          "data": {
            "text/plain": [
              "array([ 0.        ,  3.33333333,  6.66666667, 10.        ])"
            ]
          },
          "metadata": {
            "tags": []
          },
          "execution_count": 64
        }
      ]
    },
    {
      "cell_type": "markdown",
      "metadata": {
        "id": "dP6OAHGpi-p6",
        "colab_type": "text"
      },
      "source": [
        "Complex number array\n"
      ]
    },
    {
      "cell_type": "code",
      "metadata": {
        "id": "SBGT1zNjjRGS",
        "colab_type": "code",
        "colab": {
          "base_uri": "https://localhost:8080/",
          "height": 68
        },
        "outputId": "0098e8a1-9a83-4d51-bfb7-55478e85727b"
      },
      "source": [
        "cm=np.array([[1,2],[2,3],[4,5]],dtype=complex)\n",
        "cm"
      ],
      "execution_count": 65,
      "outputs": [
        {
          "output_type": "execute_result",
          "data": {
            "text/plain": [
              "array([[1.+0.j, 2.+0.j],\n",
              "       [2.+0.j, 3.+0.j],\n",
              "       [4.+0.j, 5.+0.j]])"
            ]
          },
          "metadata": {
            "tags": []
          },
          "execution_count": 65
        }
      ]
    },
    {
      "cell_type": "markdown",
      "metadata": {
        "id": "JEOX9zRTjefq",
        "colab_type": "text"
      },
      "source": [
        ""
      ]
    },
    {
      "cell_type": "code",
      "metadata": {
        "id": "S3QBnEx8jiEK",
        "colab_type": "code",
        "colab": {
          "base_uri": "https://localhost:8080/",
          "height": 34
        },
        "outputId": "7cdc8dd8-f150-4315-c3e6-f0acca4afb2c"
      },
      "source": [
        "n=np.arange(10)\n",
        "n"
      ],
      "execution_count": 67,
      "outputs": [
        {
          "output_type": "execute_result",
          "data": {
            "text/plain": [
              "array([0, 1, 2, 3, 4, 5, 6, 7, 8, 9])"
            ]
          },
          "metadata": {
            "tags": []
          },
          "execution_count": 67
        }
      ]
    },
    {
      "cell_type": "markdown",
      "metadata": {
        "id": "SghLQFjwjm9j",
        "colab_type": "text"
      },
      "source": [
        "You can reshape the array"
      ]
    },
    {
      "cell_type": "code",
      "metadata": {
        "id": "jichgpcxjlk1",
        "colab_type": "code",
        "colab": {
          "base_uri": "https://localhost:8080/",
          "height": 51
        },
        "outputId": "5d1bc1a0-7691-4788-bad2-d0c81dd9cfc7"
      },
      "source": [
        "n=n.reshape(2,5)\n",
        "n"
      ],
      "execution_count": 68,
      "outputs": [
        {
          "output_type": "execute_result",
          "data": {
            "text/plain": [
              "array([[0, 1, 2, 3, 4],\n",
              "       [5, 6, 7, 8, 9]])"
            ]
          },
          "metadata": {
            "tags": []
          },
          "execution_count": 68
        }
      ]
    }
  ]
}